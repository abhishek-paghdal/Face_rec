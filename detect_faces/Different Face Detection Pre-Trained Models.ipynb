{
 "cells": [
  {
   "cell_type": "markdown",
   "metadata": {},
   "source": [
    "# Dlib Model"
   ]
  },
  {
   "cell_type": "markdown",
   "metadata": {},
   "source": [
    "##### Dlib is an open source framework used to figure out facial landmarks which are the salient features of faces like eyes ,  mouth and eyebrows. But here we going to use this to identy or localize face in an image"
   ]
  },
  {
   "cell_type": "code",
   "execution_count": null,
   "metadata": {},
   "outputs": [],
   "source": [
    "!pip install dlib"
   ]
  },
  {
   "cell_type": "code",
   "execution_count": 2,
   "metadata": {},
   "outputs": [],
   "source": [
    "import dlib\n",
    "import cv2\n"
   ]
  },
  {
   "cell_type": "code",
   "execution_count": 3,
   "metadata": {},
   "outputs": [],
   "source": [
    "face_detector = dlib.get_frontal_face_detector()"
   ]
  },
  {
   "cell_type": "code",
   "execution_count": 6,
   "metadata": {},
   "outputs": [
    {
     "name": "stdout",
     "output_type": "stream",
     "text": [
      "Number of Faces ==> 0\n",
      "CPU times: user 27.6 ms, sys: 79 µs, total: 27.7 ms\n",
      "Wall time: 25.2 ms\n"
     ]
    },
    {
     "data": {
      "text/plain": [
       "True"
      ]
     },
     "execution_count": 6,
     "metadata": {},
     "output_type": "execute_result"
    }
   ],
   "source": [
    "%%time\n",
    "\n",
    "img = cv2.imread(\"emp_data/o065/6e2ac192-3581-47cb-9b9c-b61654aa92ad_aligned.jpg\")\n",
    "bbox = face_detector(img)\n",
    "print(\"Number of Faces ==>\",len(bbox))\n",
    "\n",
    "for faces in bbox:\n",
    "    x,y,width,height = faces.left(),faces.top(),faces.right() - faces.left(),faces.bottom()-faces.top()\n",
    "    cv2.rectangle(img,(x,y),(x+width,y+height),(250,0,0),2)\n",
    "\n",
    "cv2.imwrite(\"output_dir/dlib_single_face.jpg\",img)"
   ]
  },
  {
   "cell_type": "code",
   "execution_count": 5,
   "metadata": {},
   "outputs": [
    {
     "name": "stdout",
     "output_type": "stream",
     "text": [
      "Number of Faces ==> 1\n",
      "CPU times: user 22.2 ms, sys: 5.13 ms, total: 27.3 ms\n",
      "Wall time: 26 ms\n"
     ]
    },
    {
     "data": {
      "text/plain": [
       "True"
      ]
     },
     "execution_count": 5,
     "metadata": {},
     "output_type": "execute_result"
    }
   ],
   "source": [
    "%%time\n",
    "\n",
    "img = cv2.imread(\"2_people.jpg\")\n",
    "bbox = face_detector(img)\n",
    "\n",
    "print(\"Number of Faces ==>\",len(bbox))\n",
    "\n",
    "for faces in bbox:\n",
    "    x,y,width,height = faces.left(),faces.top(),faces.right() - faces.left(),faces.bottom()-faces.top()\n",
    "    cv2.rectangle(img,(x,y),(x+width,y+height),(255,0,0),2)\n",
    "    \n",
    "cv2.imwrite(\"output_dir/dlib_multiple_faces.jpg\",img)"
   ]
  },
  {
   "cell_type": "code",
   "execution_count": null,
   "metadata": {},
   "outputs": [],
   "source": [
    "type(bbox)"
   ]
  },
  {
   "cell_type": "code",
   "execution_count": null,
   "metadata": {},
   "outputs": [],
   "source": []
  },
  {
   "cell_type": "markdown",
   "metadata": {},
   "source": [
    "# MTCNN Model"
   ]
  },
  {
   "cell_type": "code",
   "execution_count": 7,
   "metadata": {},
   "outputs": [
    {
     "name": "stdout",
     "output_type": "stream",
     "text": [
      "Requirement already satisfied: mtcnn in /home/ad.rapidops.com/abhishek.paghdal/.local/lib/python3.8/site-packages (0.1.1)\n",
      "Requirement already satisfied: opencv-python>=4.1.0 in /home/ad.rapidops.com/abhishek.paghdal/.local/lib/python3.8/site-packages (from mtcnn) (4.7.0.72)\n",
      "Requirement already satisfied: keras>=2.0.0 in /home/ad.rapidops.com/abhishek.paghdal/.local/lib/python3.8/site-packages (from mtcnn) (2.11.0)\n",
      "Requirement already satisfied: numpy>=1.17.0; python_version >= \"3.7\" in /home/ad.rapidops.com/abhishek.paghdal/.local/lib/python3.8/site-packages (from opencv-python>=4.1.0->mtcnn) (1.23.0)\n"
     ]
    }
   ],
   "source": [
    "!pip install mtcnn"
   ]
  },
  {
   "cell_type": "code",
   "execution_count": 8,
   "metadata": {},
   "outputs": [
    {
     "name": "stderr",
     "output_type": "stream",
     "text": [
      "2023-05-26 11:42:51.531809: I tensorflow/core/platform/cpu_feature_guard.cc:193] This TensorFlow binary is optimized with oneAPI Deep Neural Network Library (oneDNN) to use the following CPU instructions in performance-critical operations:  AVX2 AVX_VNNI FMA\n",
      "To enable them in other operations, rebuild TensorFlow with the appropriate compiler flags.\n",
      "2023-05-26 11:42:51.606420: I tensorflow/core/util/port.cc:104] oneDNN custom operations are on. You may see slightly different numerical results due to floating-point round-off errors from different computation orders. To turn them off, set the environment variable `TF_ENABLE_ONEDNN_OPTS=0`.\n",
      "2023-05-26 11:42:51.608464: W tensorflow/compiler/xla/stream_executor/platform/default/dso_loader.cc:64] Could not load dynamic library 'libcudart.so.11.0'; dlerror: libcudart.so.11.0: cannot open shared object file: No such file or directory; LD_LIBRARY_PATH: /home/ad.rapidops.com/abhishek.paghdal/.local/lib/python3.8/site-packages/cv2/../../lib64:\n",
      "2023-05-26 11:42:51.608475: I tensorflow/compiler/xla/stream_executor/cuda/cudart_stub.cc:29] Ignore above cudart dlerror if you do not have a GPU set up on your machine.\n",
      "2023-05-26 11:42:51.948620: W tensorflow/compiler/xla/stream_executor/platform/default/dso_loader.cc:64] Could not load dynamic library 'libnvinfer.so.7'; dlerror: libnvinfer.so.7: cannot open shared object file: No such file or directory; LD_LIBRARY_PATH: /home/ad.rapidops.com/abhishek.paghdal/.local/lib/python3.8/site-packages/cv2/../../lib64:\n",
      "2023-05-26 11:42:51.948652: W tensorflow/compiler/xla/stream_executor/platform/default/dso_loader.cc:64] Could not load dynamic library 'libnvinfer_plugin.so.7'; dlerror: libnvinfer_plugin.so.7: cannot open shared object file: No such file or directory; LD_LIBRARY_PATH: /home/ad.rapidops.com/abhishek.paghdal/.local/lib/python3.8/site-packages/cv2/../../lib64:\n",
      "2023-05-26 11:42:51.948655: W tensorflow/compiler/tf2tensorrt/utils/py_utils.cc:38] TF-TRT Warning: Cannot dlopen some TensorRT libraries. If you would like to use Nvidia GPU with TensorRT, please make sure the missing libraries mentioned above are installed properly.\n",
      "/usr/lib/python3/dist-packages/requests/__init__.py:89: RequestsDependencyWarning: urllib3 (1.26.15) or chardet (3.0.4) doesn't match a supported version!\n",
      "  warnings.warn(\"urllib3 ({}) or chardet ({}) doesn't match a supported \"\n"
     ]
    }
   ],
   "source": [
    "from mtcnn import MTCNN\n",
    "import cv2"
   ]
  },
  {
   "cell_type": "code",
   "execution_count": 9,
   "metadata": {},
   "outputs": [
    {
     "name": "stderr",
     "output_type": "stream",
     "text": [
      "2023-05-26 11:42:52.543245: W tensorflow/compiler/xla/stream_executor/platform/default/dso_loader.cc:64] Could not load dynamic library 'libcuda.so.1'; dlerror: libcuda.so.1: cannot open shared object file: No such file or directory; LD_LIBRARY_PATH: /home/ad.rapidops.com/abhishek.paghdal/.local/lib/python3.8/site-packages/cv2/../../lib64:\n",
      "2023-05-26 11:42:52.543264: W tensorflow/compiler/xla/stream_executor/cuda/cuda_driver.cc:265] failed call to cuInit: UNKNOWN ERROR (303)\n",
      "2023-05-26 11:42:52.543276: I tensorflow/compiler/xla/stream_executor/cuda/cuda_diagnostics.cc:156] kernel driver does not appear to be running on this host (RSPL-473): /proc/driver/nvidia/version does not exist\n",
      "2023-05-26 11:42:52.543464: I tensorflow/core/platform/cpu_feature_guard.cc:193] This TensorFlow binary is optimized with oneAPI Deep Neural Network Library (oneDNN) to use the following CPU instructions in performance-critical operations:  AVX2 AVX_VNNI FMA\n",
      "To enable them in other operations, rebuild TensorFlow with the appropriate compiler flags.\n"
     ]
    }
   ],
   "source": [
    "face_detector = MTCNN()"
   ]
  },
  {
   "cell_type": "code",
   "execution_count": 10,
   "metadata": {},
   "outputs": [
    {
     "name": "stdout",
     "output_type": "stream",
     "text": [
      "1/1 [==============================] - 0s 66ms/step\n",
      "1/1 [==============================] - 0s 43ms/step\n",
      "1/1 [==============================] - 0s 13ms/step\n",
      "1/1 [==============================] - 0s 13ms/step\n",
      "1/1 [==============================] - 0s 13ms/step\n",
      "1/1 [==============================] - 0s 12ms/step\n",
      "1/1 [==============================] - 0s 13ms/step\n",
      "1/1 [==============================] - 0s 12ms/step\n",
      "1/1 [==============================] - 0s 12ms/step\n",
      "2/2 [==============================] - 0s 4ms/step\n",
      "1/1 [==============================] - 0s 59ms/step\n",
      "Number of Faces ==> 1\n",
      "CPU times: user 645 ms, sys: 46.6 ms, total: 691 ms\n",
      "Wall time: 600 ms\n"
     ]
    },
    {
     "data": {
      "text/plain": [
       "True"
      ]
     },
     "execution_count": 10,
     "metadata": {},
     "output_type": "execute_result"
    }
   ],
   "source": [
    "%%time\n",
    "img = cv2.cvtColor(cv2.imread(\"emp_data/o065/6e2ac192-3581-47cb-9b9c-b61654aa92ad_aligned.jpg\"), cv2.COLOR_BGR2RGB)\n",
    "face_info = face_detector.detect_faces(img)\n",
    "\n",
    "print(\"Number of Faces ==>\",len(face_info))\n",
    "\n",
    "for faces in face_info:\n",
    "    x,y,width,height = faces[\"box\"]\n",
    "    cv2.rectangle(img,(x,y),(x+width,y+height),(255,0,0),2)\n",
    "img = cv2.cvtColor(img, cv2.COLOR_RGB2BGR)\n",
    "\n",
    "cv2.imwrite(\"output_dir/mtcnn_single_face.jpg\",img)"
   ]
  },
  {
   "cell_type": "code",
   "execution_count": 11,
   "metadata": {},
   "outputs": [
    {
     "data": {
      "text/plain": [
       "[{'box': [297, 178, 43, 55],\n",
       "  'confidence': 0.9989848732948303,\n",
       "  'keypoints': {'left_eye': (307, 202),\n",
       "   'right_eye': (327, 198),\n",
       "   'nose': (318, 213),\n",
       "   'mouth_left': (312, 221),\n",
       "   'mouth_right': (329, 218)}}]"
      ]
     },
     "execution_count": 11,
     "metadata": {},
     "output_type": "execute_result"
    }
   ],
   "source": [
    "face_info"
   ]
  },
  {
   "cell_type": "code",
   "execution_count": 12,
   "metadata": {},
   "outputs": [
    {
     "name": "stdout",
     "output_type": "stream",
     "text": [
      "1/1 [==============================] - 0s 15ms/step\n",
      "1/1 [==============================] - 0s 14ms/step\n",
      "1/1 [==============================] - 0s 14ms/step\n",
      "1/1 [==============================] - 0s 13ms/step\n",
      "1/1 [==============================] - 0s 12ms/step\n",
      "1/1 [==============================] - 0s 13ms/step\n",
      "1/1 [==============================] - 0s 13ms/step\n",
      "1/1 [==============================] - 0s 13ms/step\n",
      "1/1 [==============================] - 0s 13ms/step\n",
      "4/4 [==============================] - 0s 3ms/step\n",
      "1/1 [==============================] - 0s 17ms/step\n",
      "Number of Faces ==> 2\n",
      "CPU times: user 511 ms, sys: 20.8 ms, total: 532 ms\n",
      "Wall time: 412 ms\n"
     ]
    },
    {
     "data": {
      "text/plain": [
       "True"
      ]
     },
     "execution_count": 12,
     "metadata": {},
     "output_type": "execute_result"
    }
   ],
   "source": [
    "%%time\n",
    "img = cv2.cvtColor(cv2.imread(\"2_people.jpg\"), cv2.COLOR_BGR2RGB)\n",
    "face_info = face_detector.detect_faces(img)\n",
    "\n",
    "print(\"Number of Faces ==>\",len(face_info))\n",
    "\n",
    "for faces in face_info:\n",
    "    x,y,width,height = faces[\"box\"]\n",
    "    cv2.rectangle(img,(x,y),(x+width,y+height),(255,0,0),2)\n",
    "img = cv2.cvtColor(img, cv2.COLOR_RGB2BGR)\n",
    "\n",
    "cv2.imwrite(\"output_dir/mtcnn_multiple_face.jpg\",img)"
   ]
  },
  {
   "cell_type": "markdown",
   "metadata": {},
   "source": [
    "# Face Recognition Module "
   ]
  },
  {
   "cell_type": "code",
   "execution_count": 18,
   "metadata": {},
   "outputs": [
    {
     "name": "stdout",
     "output_type": "stream",
     "text": [
      "Collecting face_recognition\n",
      "  Using cached face_recognition-1.3.0-py2.py3-none-any.whl (15 kB)\n",
      "Requirement already satisfied: Pillow in /usr/lib/python3/dist-packages (from face_recognition) (7.0.0)\n",
      "Collecting face-recognition-models>=0.3.0\n",
      "  Using cached face_recognition_models-0.3.0.tar.gz (100.1 MB)\n",
      "Requirement already satisfied: dlib>=19.7 in /home/ad.rapidops.com/abhishek.paghdal/.local/lib/python3.8/site-packages (from face_recognition) (19.24.1)\n",
      "Requirement already satisfied: numpy in /home/ad.rapidops.com/abhishek.paghdal/.local/lib/python3.8/site-packages (from face_recognition) (1.23.0)\n",
      "Requirement already satisfied: Click>=6.0 in /home/ad.rapidops.com/abhishek.paghdal/.local/lib/python3.8/site-packages (from face_recognition) (8.1.3)\n",
      "Building wheels for collected packages: face-recognition-models\n",
      "  Building wheel for face-recognition-models (setup.py) ... \u001b[?25ldone\n",
      "\u001b[?25h  Created wheel for face-recognition-models: filename=face_recognition_models-0.3.0-py2.py3-none-any.whl size=100566172 sha256=a1d6f704cd394ef7915ed32dd9e5d88376b14c63c6e2d21dcb77f907d51ac5de\n",
      "  Stored in directory: /home/ad.rapidops.com/abhishek.paghdal/.cache/pip/wheels/b4/4b/8f/751e99d45f089bdf366a7d3e5066db3c2b84a62e4377f534d7\n",
      "Successfully built face-recognition-models\n",
      "Installing collected packages: face-recognition-models, face-recognition\n",
      "Successfully installed face-recognition-1.3.0 face-recognition-models-0.3.0\n"
     ]
    }
   ],
   "source": [
    "!pip install face_recognition"
   ]
  },
  {
   "cell_type": "code",
   "execution_count": 19,
   "metadata": {},
   "outputs": [],
   "source": [
    "import cv2\n",
    "import face_recognition"
   ]
  },
  {
   "cell_type": "code",
   "execution_count": 21,
   "metadata": {},
   "outputs": [
    {
     "name": "stdout",
     "output_type": "stream",
     "text": [
      "Number of Faces ==> 1\n",
      "CPU times: user 80.3 ms, sys: 4.16 ms, total: 84.4 ms\n",
      "Wall time: 83.2 ms\n"
     ]
    },
    {
     "data": {
      "text/plain": [
       "True"
      ]
     },
     "execution_count": 21,
     "metadata": {},
     "output_type": "execute_result"
    }
   ],
   "source": [
    "%%time\n",
    "img = cv2.imread(\"emp_data/r438/8cdfaf09-ad87-40ed-9208-0fa1a8391bff_aligned.jpg\")\n",
    "face_locations = face_recognition.face_locations(img)\n",
    "\n",
    "print(\"Number of Faces ==>\",len(face_locations))\n",
    "\n",
    "for top, right, bottom, left in face_locations:\n",
    "        cv2.rectangle(img, (left, top), (right, bottom), (255, 0, 255), 2)\n",
    "cv2.imwrite(\"output_dir/face_recognition_single_face.jpg\",img)"
   ]
  },
  {
   "cell_type": "code",
   "execution_count": 24,
   "metadata": {},
   "outputs": [
    {
     "name": "stdout",
     "output_type": "stream",
     "text": [
      "Number of Faces ==> 1\n",
      "CPU times: user 78.4 ms, sys: 509 µs, total: 78.9 ms\n",
      "Wall time: 77.6 ms\n"
     ]
    },
    {
     "data": {
      "text/plain": [
       "True"
      ]
     },
     "execution_count": 24,
     "metadata": {},
     "output_type": "execute_result"
    }
   ],
   "source": [
    "%%time\n",
    "img = cv2.imread(\"emp_data/o065/6e2ac192-3581-47cb-9b9c-b61654aa92ad_aligned.jpg\")\n",
    "face_locations = face_recognition.face_locations(img)\n",
    "\n",
    "print(\"Number of Faces ==>\",len(face_locations))\n",
    "\n",
    "for top, right, bottom, left in face_locations:\n",
    "        cv2.rectangle(img, (left, top), (right, bottom), (255, 0, 255), 2)\n",
    "cv2.imwrite(\"output_dir/face_recognition_single_face_2.jpg\",img)"
   ]
  },
  {
   "cell_type": "code",
   "execution_count": 26,
   "metadata": {},
   "outputs": [
    {
     "data": {
      "text/plain": [
       "[(190, 343, 233, 299)]"
      ]
     },
     "execution_count": 26,
     "metadata": {},
     "output_type": "execute_result"
    }
   ],
   "source": []
  },
  {
   "cell_type": "code",
   "execution_count": null,
   "metadata": {},
   "outputs": [],
   "source": []
  }
 ],
 "metadata": {
  "kernelspec": {
   "display_name": "Python 3 (ipykernel)",
   "language": "python",
   "name": "python3"
  },
  "language_info": {
   "codemirror_mode": {
    "name": "ipython",
    "version": 3
   },
   "file_extension": ".py",
   "mimetype": "text/x-python",
   "name": "python",
   "nbconvert_exporter": "python",
   "pygments_lexer": "ipython3",
   "version": "3.8.10"
  }
 },
 "nbformat": 4,
 "nbformat_minor": 2
}
