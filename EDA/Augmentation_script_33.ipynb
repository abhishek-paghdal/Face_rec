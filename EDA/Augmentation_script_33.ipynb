{
 "cells": [
  {
   "cell_type": "markdown",
   "id": "11f8ecdf",
   "metadata": {},
   "source": [
    "# AUGMENTATION OF FULL IMAGES"
   ]
  },
  {
   "cell_type": "code",
   "execution_count": 24,
   "id": "d5faebbb",
   "metadata": {},
   "outputs": [],
   "source": [
    "import os\n",
    "import random\n",
    "from tensorflow.keras.preprocessing import image\n",
    "from tensorflow.keras.preprocessing.image import ImageDataGenerator\n",
    "import shutil\n",
    "import numpy as np"
   ]
  },
  {
   "cell_type": "code",
   "execution_count": 15,
   "id": "1a95409a",
   "metadata": {},
   "outputs": [],
   "source": [
    "# Set the paths\n",
    "original_folder = 'emp_data'\n",
    "balanced_folder = 'augmentated_emp_data'"
   ]
  },
  {
   "cell_type": "code",
   "execution_count": 16,
   "id": "52bb2a4f",
   "metadata": {},
   "outputs": [],
   "source": [
    "# Set the augmentation parameters\n",
    "rotation_range = 30\n",
    "width_shift_range = 0.1\n",
    "height_shift_range = 0.1\n",
    "shear_range = 0.2\n",
    "zoom_range = 0.2\n",
    "horizontal_flip = True\n",
    "fill_mode = \"nearest\""
   ]
  },
  {
   "cell_type": "code",
   "execution_count": 17,
   "id": "aedef3ab",
   "metadata": {},
   "outputs": [],
   "source": [
    "# Set the desired number of samples per class\n",
    "desired_samples_per_class = 33"
   ]
  },
  {
   "cell_type": "code",
   "execution_count": 18,
   "id": "c484e59e",
   "metadata": {},
   "outputs": [],
   "source": [
    "# Create the balanced folder\n",
    "os.makedirs(balanced_folder, exist_ok=True)"
   ]
  },
  {
   "cell_type": "code",
   "execution_count": 19,
   "id": "97dbbae5",
   "metadata": {},
   "outputs": [],
   "source": [
    "# Initialize the image data generator\n",
    "\n",
    "datagen = ImageDataGenerator(\n",
    "    rotation_range=rotation_range,\n",
    "    width_shift_range=width_shift_range,\n",
    "    height_shift_range=height_shift_range,\n",
    "    shear_range=shear_range,\n",
    "    zoom_range=zoom_range,\n",
    "    horizontal_flip=horizontal_flip,\n",
    "    fill_mode=fill_mode\n",
    ")"
   ]
  },
  {
   "cell_type": "code",
   "execution_count": 25,
   "id": "9d40d69e",
   "metadata": {},
   "outputs": [
    {
     "name": "stdout",
     "output_type": "stream",
     "text": [
      "Balanced dataset with augmented samples created!\n"
     ]
    }
   ],
   "source": [
    "# Iterate over the subfolders in the original folder\n",
    "for subfolder_name in os.listdir(original_folder):\n",
    "    subfolder_path = os.path.join(original_folder, subfolder_name)\n",
    "    if not os.path.isdir(subfolder_path):\n",
    "        continue\n",
    "\n",
    "    # Get the list of image files in the subfolder\n",
    "    image_files = [file for file in os.listdir(subfolder_path) if file.endswith(\".jpg\") or file.endswith(\".png\")]\n",
    "\n",
    "    # Determine the number of samples in the subfolder\n",
    "    num_samples = len(image_files)\n",
    "\n",
    "    # Calculate the number of samples to keep and to generate\n",
    "    samples_to_keep = min(desired_samples_per_class, num_samples)\n",
    "    samples_to_generate = desired_samples_per_class - samples_to_keep\n",
    "\n",
    "    # Move randomly selected samples to the balanced folder\n",
    "    random.shuffle(image_files)\n",
    "    \n",
    "    os.makedirs(os.path.join(balanced_folder, subfolder_name), exist_ok=True)\n",
    "\n",
    "    for i in range(samples_to_keep):\n",
    "        file = image_files[i]\n",
    "        source_path = os.path.join(subfolder_path, file)\n",
    "        target_path = os.path.join(balanced_folder, subfolder_name, file)\n",
    "        shutil.copy(source_path, target_path)\n",
    "\n",
    "    # Generate augmented samples for the minority class\n",
    "    for i in range(samples_to_generate):\n",
    "        file = random.choice(image_files)\n",
    "        source_path = os.path.join(subfolder_path, file)\n",
    "        target_filename = f\"augmented_{i}_{file}\"\n",
    "        target_path = os.path.join(balanced_folder, subfolder_name, target_filename)\n",
    "\n",
    "        img = image.load_img(source_path)\n",
    "        x = image.img_to_array(img)\n",
    "\n",
    "        # Reshape the image to match the expected input shape of the data generator\n",
    "        x = np.expand_dims(x, axis=0)\n",
    "\n",
    "        # Generate augmented image\n",
    "        augmented_images = datagen.flow(x, batch_size=1)\n",
    "\n",
    "        # Convert the augmented image back to PIL format\n",
    "        augmented_image = image.array_to_img(augmented_images[0][0])\n",
    "\n",
    "        # Save the augmented image\n",
    "        augmented_image.save(target_path)\n",
    "\n",
    "print(\"Balanced dataset with augmented samples created!\")\n"
   ]
  },
  {
   "cell_type": "code",
   "execution_count": null,
   "id": "6066bb00",
   "metadata": {},
   "outputs": [],
   "source": []
  }
 ],
 "metadata": {
  "kernelspec": {
   "display_name": "Python 3 (ipykernel)",
   "language": "python",
   "name": "python3"
  },
  "language_info": {
   "codemirror_mode": {
    "name": "ipython",
    "version": 3
   },
   "file_extension": ".py",
   "mimetype": "text/x-python",
   "name": "python",
   "nbconvert_exporter": "python",
   "pygments_lexer": "ipython3",
   "version": "3.9.13"
  }
 },
 "nbformat": 4,
 "nbformat_minor": 5
}
